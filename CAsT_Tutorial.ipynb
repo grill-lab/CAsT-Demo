{
  "nbformat": 4,
  "nbformat_minor": 0,
  "metadata": {
    "colab": {
      "name": "CAsT Tutorial",
      "provenance": [],
      "authorship_tag": "ABX9TyMgrMOMRQmo7jQ0/8wBt+FV",
      "include_colab_link": true
    },
    "kernelspec": {
      "name": "python3",
      "display_name": "Python 3"
    },
    "language_info": {
      "name": "python"
    }
  },
  "cells": [
    {
      "cell_type": "markdown",
      "metadata": {
        "id": "view-in-github",
        "colab_type": "text"
      },
      "source": [
        "<a href=\"https://colab.research.google.com/github/grill-lab/CAsT-Demo/blob/main/CAsT_Tutorial.ipynb\" target=\"_parent\"><img src=\"https://colab.research.google.com/assets/colab-badge.svg\" alt=\"Open In Colab\"/></a>"
      ]
    },
    {
      "cell_type": "markdown",
      "source": [
        "# Introduction\n",
        "\n",
        "## Overview\n",
        "\n",
        "The Conversational Assistance Track (CAsT) is run as part of the Text REtrieval Conference (TREC) workshop series. CAsT aims to advance research in conversational search systems by building a reusable benchmark for information-centric dialogues on which such systems can be evaluated and compared.\n",
        "\n",
        "## Objective\n",
        "\n",
        "In this demo, we'll build the components of a simple ***automatic*** CAsT system with off-the-shelf models and tools. These components include a:\n",
        "\n",
        "\n",
        "*   Query Rewriter\n",
        "*   Document Retrieval System, and\n",
        "*   Passage Reranker\n",
        "\n",
        "\n",
        "## System Architecture\n",
        "\n",
        "<img src=\"contents/assets/architecture_diagram.png\" width=\"200\" height=\"200\" />\n"
      ],
      "metadata": {
        "id": "YNPzkPOxWhGW"
      }
    },
    {
      "cell_type": "code",
      "execution_count": null,
      "metadata": {
        "id": "gniB7W4_Wc6Q"
      },
      "outputs": [],
      "source": [
        ""
      ]
    }
  ]
}